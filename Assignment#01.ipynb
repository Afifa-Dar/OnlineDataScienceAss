{
 "cells": [
  {
   "cell_type": "code",
   "execution_count": 2,
   "id": "cd1c093d",
   "metadata": {},
   "outputs": [
    {
     "name": "stdout",
     "output_type": "stream",
     "text": [
      "Twinkle,twinkle,little star,\n",
      "\tHow I wonder what you are!\n",
      "\t\tUp above the world so high\n",
      "\t\tLike a diamond in the sky.\n",
      "Twinkle,twinkle,little star,\n",
      "\tHow I wonder what you are\n"
     ]
    }
   ],
   "source": [
    "#Write a Python program to print the following string in a specific format (see the output)\n",
    "print(\"Twinkle,twinkle,little star,\\n\\tHow I wonder what you are!\\n\\t\\tUp above the world so high\\n\\t\\tLike a diamond in the sky.\\nTwinkle,twinkle,little star,\\n\\tHow I wonder what you are\")\n"
   ]
  },
  {
   "cell_type": "code",
   "execution_count": 3,
   "id": "3d3c96c4",
   "metadata": {},
   "outputs": [
    {
     "name": "stdout",
     "output_type": "stream",
     "text": [
      "3.8.8 (default, Apr 13 2021, 15:08:03) [MSC v.1916 64 bit (AMD64)]\n"
     ]
    }
   ],
   "source": [
    "#Write a Python program to get the Python version you are using\n",
    "import sys\n",
    "print(sys.version)"
   ]
  },
  {
   "cell_type": "code",
   "execution_count": 4,
   "id": "062fd8f9",
   "metadata": {},
   "outputs": [
    {
     "name": "stdout",
     "output_type": "stream",
     "text": [
      "01/01/2022, 18:52:13\n"
     ]
    }
   ],
   "source": [
    "#Write a Python program to display the current date and time.\n",
    "import datetime\n",
    "c=datetime.datetime.now()\n",
    "print(c.strftime(\"%d/%m/%Y, %H:%M:%S\"))"
   ]
  },
  {
   "cell_type": "code",
   "execution_count": 6,
   "id": "0e9fa3e5",
   "metadata": {},
   "outputs": [
    {
     "name": "stdout",
     "output_type": "stream",
     "text": [
      "enter radius of a circle: 4\n",
      "\n",
      "*** Area of a circle is : PI*r^2 *** \n",
      "\n",
      "area of a given cirlce is  50.24\n"
     ]
    }
   ],
   "source": [
    "#Write a Python program which accepts the radius of a circle from the user and compute the area.\n",
    "r=int(input(\"enter radius of a circle: \"))\n",
    "print(\"\\n*** Area of a circle is : PI*r^2 *** \")\n",
    "a=3.14*r**2\n",
    "print(\"\\narea of a given cirlce is \",a)"
   ]
  },
  {
   "cell_type": "code",
   "execution_count": 7,
   "id": "5540145f",
   "metadata": {},
   "outputs": [
    {
     "name": "stdout",
     "output_type": "stream",
     "text": [
      "enter first name: afifa\n",
      "enter last name: dar\n",
      "dar afifa\n"
     ]
    }
   ],
   "source": [
    "#Write a Python program which accepts the user's first and last name and print them in reverse order with a space between them.\n",
    "f=input(\"enter first name: \")\n",
    "l=input('enter last name: ')\n",
    "print(l+\" \"+f)"
   ]
  },
  {
   "cell_type": "code",
   "execution_count": 8,
   "id": "af5ca621",
   "metadata": {},
   "outputs": [
    {
     "name": "stdout",
     "output_type": "stream",
     "text": [
      "enter number :4\n",
      "enter number5\n",
      "9\n"
     ]
    }
   ],
   "source": [
    "#Write a python program which takes two inputs from user and print them addition\n",
    "a=int(input(\"enter number :\"))\n",
    "b=int(input(\"enter number\"))\n",
    "print(a+b)"
   ]
  },
  {
   "cell_type": "code",
   "execution_count": null,
   "id": "c33a027a",
   "metadata": {},
   "outputs": [],
   "source": []
  }
 ],
 "metadata": {
  "kernelspec": {
   "display_name": "Python 3",
   "language": "python",
   "name": "python3"
  },
  "language_info": {
   "codemirror_mode": {
    "name": "ipython",
    "version": 3
   },
   "file_extension": ".py",
   "mimetype": "text/x-python",
   "name": "python",
   "nbconvert_exporter": "python",
   "pygments_lexer": "ipython3",
   "version": "3.8.8"
  }
 },
 "nbformat": 4,
 "nbformat_minor": 5
}
